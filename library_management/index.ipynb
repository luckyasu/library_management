{
 "cells": [
  {
   "cell_type": "code",
   "execution_count": null,
   "id": "initial_id",
   "metadata": {
    "collapsed": true
   },
   "outputs": [],
   "source": [
    "\n",
    " # 题目2：                                                                                                                                                                             /**\n",
    " # * 实现一个 EventBus 模块，可以实现自定义事件的订阅、触发、移除功能，功能如下所示\n",
    " # * const eventBus = new EventBus();\n",
    " # * function handleSleep(){\n",
    " # *   console.log('sleep');\n",
    " # * }\n",
    " # *\n",
    " # * // 订阅\n",
    " # * eventBus.on('sleep', handleSleep);\n",
    " # *\n",
    " # * // 移除单个\n",
    " # * eventBus.off('sleep', handleSleep);\n",
    " # *\n",
    " # * // 移除所有\n",
    " # * eventBus.off('sleep');\n",
    " # *\n",
    " # * // 触发\n",
    " # * eventBus.emit('sleep');\n",
    " # */\n",
    "\n",
    "\n",
    "\n",
    "\n",
    "\n",
    "\n"
   ]
  }
 ],
 "metadata": {
  "kernelspec": {
   "display_name": "Python 3",
   "language": "python",
   "name": "python3"
  },
  "language_info": {
   "codemirror_mode": {
    "name": "ipython",
    "version": 2
   },
   "file_extension": ".py",
   "mimetype": "text/x-python",
   "name": "python",
   "nbconvert_exporter": "python",
   "pygments_lexer": "ipython2",
   "version": "2.7.6"
  }
 },
 "nbformat": 4,
 "nbformat_minor": 5
}
